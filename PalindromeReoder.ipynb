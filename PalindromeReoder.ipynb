{
 "cells": [
  {
   "cell_type": "code",
   "execution_count": 54,
   "metadata": {},
   "outputs": [
    {
     "name": "stdout",
     "output_type": "stream",
     "text": [
      "Overwriting submit.py\n"
     ]
    }
   ],
   "source": [
    "%%writefile submit.py\n",
    "#Palindrome -> symmetrical word??\n",
    "#만약 같은게 있다면 한짝씩만 모아서 좌우 대칭시키면 된다...\n",
    "\n",
    "String= input()\n",
    "alpha = \"A,B,C,D,E,F,G,H,I,J,K,L,M,N,O,P,Q,R,S,T,U,V,W,X,Y,Z\"\n",
    "pal=[]\n",
    "middle=[]\n",
    "\n",
    "for i in alpha:\n",
    "    num = String.count(i)\n",
    "    if num%2 == 0:\n",
    "        for j in range(int(num/2)):\n",
    "            pal.append(i)\n",
    "    else :\n",
    "        for k in range(int(num)):\n",
    "            middle.append(i)\n",
    "\n",
    "if len(middle)%2 == 0 and len(middle) != 0 or len(middle) == len(String) and len(String) != 1:\n",
    "    print(\"NO SOLUTION\")\n",
    "\n",
    "else:\n",
    "    lis = pal+middle+list(reversed(pal))\n",
    "    for t in lis:\n",
    "        print(t,end=\"\")"
   ]
  },
  {
   "cell_type": "code",
   "execution_count": 33,
   "metadata": {},
   "outputs": [
    {
     "data": {
      "text/plain": [
       "2"
      ]
     },
     "execution_count": 33,
     "metadata": {},
     "output_type": "execute_result"
    }
   ],
   "source": [
    "a = \"aabc\"\n",
    "a.count(\"a\")"
   ]
  }
 ],
 "metadata": {
  "kernelspec": {
   "display_name": "Python 3",
   "language": "python",
   "name": "python3"
  },
  "language_info": {
   "codemirror_mode": {
    "name": "ipython",
    "version": 3
   },
   "file_extension": ".py",
   "mimetype": "text/x-python",
   "name": "python",
   "nbconvert_exporter": "python",
   "pygments_lexer": "ipython3",
   "version": "3.7.4"
  }
 },
 "nbformat": 4,
 "nbformat_minor": 4
}
