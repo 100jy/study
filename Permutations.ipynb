{
 "cells": [
  {
   "cell_type": "code",
   "execution_count": null,
   "metadata": {
    "slideshow": {
     "slide_type": "notes"
    }
   },
   "outputs": [],
   "source": [
    "#not 재귀...(실패...)\n",
    "n = int(input())\n",
    "\n",
    "array = []\n",
    "\n",
    "for i in range(n):\n",
    "    array.append(i+1)\n",
    "\n",
    "nfact = 1\n",
    "for j in range(n):\n",
    "    nfact *= (j+1)\n",
    "\n",
    "cnt=0\n",
    "for i in range(1,n**n):\n",
    "    cnt+=1\n",
    "    if i%n != n-1 :\n",
    "        x= i%n\n",
    "        temp=array[x]\n",
    "        array[x]=array[x+1]\n",
    "        array[x+1]=temp\n",
    "        ab = []\n",
    "        \n",
    "        for k in range(n-1):\n",
    "            ab.append(abs(array[k] - array[k+1]))\n",
    "        \n",
    "        for t in ab:\n",
    "            if t==1:\n",
    "                ab[t]=0\n",
    "        \n",
    "        check = 1\n",
    "        for h in range(len(ab)) :\n",
    "            check *= ab[h]\n",
    "           \n",
    "    if check != 0:\n",
    "        bea=array\n",
    "        break\n",
    "\n",
    "if cnt==n**n-1 :\n",
    "    print(\"NO SOLUTION\")\n",
    "else:\n",
    "    for p in bea:\n",
    "        print(p,end=\" \")\n"
   ]
  },
  {
   "cell_type": "code",
   "execution_count": null,
   "metadata": {},
   "outputs": [],
   "source": [
    "#%%writefile submit.py\n",
    "\n",
    "n = int(input())\n",
    "\n",
    "array = []\n",
    "\n",
    "\n",
    "for i in range(n):\n",
    "    array.append(i+1)\n",
    "\n",
    "def swap(array,k,i):\n",
    "    temp = array[k]\n",
    "    array[k] = array[i]\n",
    "    array[i] =temp\n",
    "\n",
    "\n",
    "def permu(k):\n",
    "    \n",
    "    if k == n:\n",
    "        ab = []\n",
    "        for k in range(n-1):\n",
    "            ab.append(abs(array[k] - array[k+1]))\n",
    "            \n",
    "        check=1\n",
    "        for t in ab:\n",
    "            if t==1:\n",
    "                check=0\n",
    "           \n",
    "        if check != 0 :\n",
    "            a.append(array)\n",
    "            \n",
    "           \n",
    "    else :\n",
    "        for i in range(k,n):\n",
    "            swap(array,k,i)\n",
    "            permu(k+1)\n",
    "            swap(array,k,i)\n",
    "            \n",
    "    \n",
    "permu(0)\n"
   ]
  },
  {
   "cell_type": "code",
   "execution_count": null,
   "metadata": {},
   "outputs": [],
   "source": [
    "#2씩 늘리면서 만들어준다...(천재인듯...)\n",
    "#(짝수들+홀수들....)->이렇게 나누면 무조건 된다...."
   ]
  },
  {
   "cell_type": "code",
   "execution_count": 31,
   "metadata": {},
   "outputs": [
    {
     "name": "stdin",
     "output_type": "stream",
     "text": [
      " 5\n"
     ]
    },
    {
     "name": "stdout",
     "output_type": "stream",
     "text": [
      "2 4 1 3 5 "
     ]
    }
   ],
   "source": [
    "%%writefile submit.py\n",
    "\n",
    "n = int(input())\n",
    "\n",
    "if n==1:\n",
    "    print(1)\n",
    "elif n==2 or n==3:\n",
    "    print(\"NO SOLUTION\")\n",
    "\n",
    "elif n==4:\n",
    "    print(\"2 4 1 3\")\n",
    "\n",
    "else:\n",
    "    array=[]\n",
    "    if n%2==1:\n",
    "        for i in range(1,int((n-1)/2+1)):\n",
    "            print(2*i,end=\" \")\n",
    "        for j in range(1,int((n-1)/2+2)):    \n",
    "            print(2*j-1,end=\" \")\n",
    "\n",
    "    else:\n",
    "        for i in range(1,int(n/2+1)):\n",
    "             print(2*i,end=\" \")\n",
    "        for j in range(1,int(n/2+1)):    \n",
    "            print(2*j-1,end=\" \")\n"
   ]
  }
 ],
 "metadata": {
  "kernelspec": {
   "display_name": "Python 3",
   "language": "python",
   "name": "python3"
  },
  "language_info": {
   "codemirror_mode": {
    "name": "ipython",
    "version": 3
   },
   "file_extension": ".py",
   "mimetype": "text/x-python",
   "name": "python",
   "nbconvert_exporter": "python",
   "pygments_lexer": "ipython3",
   "version": "3.7.4"
  }
 },
 "nbformat": 4,
 "nbformat_minor": 4
}
