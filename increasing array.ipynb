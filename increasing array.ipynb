{
 "cells": [
  {
   "cell_type": "code",
   "execution_count": 20,
   "metadata": {},
   "outputs": [
    {
     "name": "stdin",
     "output_type": "stream",
     "text": [
      " 5\n",
      " 3 2 5 1 7\n"
     ]
    },
    {
     "name": "stdout",
     "output_type": "stream",
     "text": [
      "5\n"
     ]
    }
   ],
   "source": [
    "#앞에 값보다 작지 않도록 한턴에 1씩 증가\n",
    "\n",
    "n = int(input())\n",
    "array = input().split()\n",
    "for i in range(n):\n",
    "    array[i]=int(array[i])\n",
    "\n",
    "#init\n",
    "turn=0\n",
    "for i in range(n-1):\n",
    "    if array[i] > array[i+1]:\n",
    "        temp = array[i] - array[i+1]\n",
    "        turn+=temp\n",
    "print(turn)\n",
    "\n",
    "\n"
   ]
  },
  {
   "cell_type": "code",
   "execution_count": 17,
   "metadata": {},
   "outputs": [
    {
     "name": "stdin",
     "output_type": "stream",
     "text": [
      " 3 2 5 1 4\n"
     ]
    }
   ],
   "source": [
    "array = input().split()\n",
    "\n",
    "for i in range(n):\n",
    "    array[i]=int(array[i])"
   ]
  }
 ],
 "metadata": {
  "kernelspec": {
   "display_name": "Python 3",
   "language": "python",
   "name": "python3"
  },
  "language_info": {
   "codemirror_mode": {
    "name": "ipython",
    "version": 3
   },
   "file_extension": ".py",
   "mimetype": "text/x-python",
   "name": "python",
   "nbconvert_exporter": "python",
   "pygments_lexer": "ipython3",
   "version": "3.7.4"
  }
 },
 "nbformat": 4,
 "nbformat_minor": 4
}
