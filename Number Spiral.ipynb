{
 "cells": [
  {
   "cell_type": "code",
   "execution_count": 33,
   "metadata": {},
   "outputs": [
    {
     "name": "stdout",
     "output_type": "stream",
     "text": [
      "Overwriting submit.py\n"
     ]
    }
   ],
   "source": [
    "%%writefile submit.py\n",
    "n = int(input())\n",
    "\n",
    "target=[]\n",
    "\n",
    "for i in range(n):\n",
    "    x,y = input().split()\n",
    "    target.append([int(x),int(y)])\n",
    "\n",
    "def find(point):\n",
    "    if point[0]+point[1]==2:\n",
    "        answer=1\n",
    "\n",
    "    elif point[0]>point[1]:\n",
    "        diag=1+point[0]*(point[0]-1)\n",
    "        if point[0]%2==1:\n",
    "            answer = diag-(point[0]-point[1])\n",
    "        else:\n",
    "            answer = diag+(point[0]-point[1])\n",
    "\n",
    "    else :\n",
    "        diag=1+point[1]*(point[1]-1)\n",
    "        if point[1]%2==1:\n",
    "            answer = diag+(point[1]-point[0])\n",
    "        else:\n",
    "            answer = diag-(point[1]-point[0])\n",
    "    print(answer)     \n",
    "\n",
    "for j in range(n):\n",
    "    find(target[j])\n"
   ]
  }
 ],
 "metadata": {
  "kernelspec": {
   "display_name": "Python 3",
   "language": "python",
   "name": "python3"
  },
  "language_info": {
   "codemirror_mode": {
    "name": "ipython",
    "version": 3
   },
   "file_extension": ".py",
   "mimetype": "text/x-python",
   "name": "python",
   "nbconvert_exporter": "python",
   "pygments_lexer": "ipython3",
   "version": "3.7.4"
  }
 },
 "nbformat": 4,
 "nbformat_minor": 4
}
