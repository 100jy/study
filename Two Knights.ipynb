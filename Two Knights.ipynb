{
 "cells": [
  {
   "cell_type": "code",
   "execution_count": 67,
   "metadata": {},
   "outputs": [
    {
     "name": "stdout",
     "output_type": "stream",
     "text": [
      "Overwriting submit.py\n"
     ]
    }
   ],
   "source": [
    "%%writefile submit.py\n",
    "\n",
    "n = int(input())\n",
    "\n",
    "for k in range(1,n+1):\n",
    "    case = 0\n",
    "    \n",
    "    if k <=2:\n",
    "        case=0\n",
    "        \n",
    "    elif k == 3:\n",
    "        case = 16\n",
    "    \n",
    "    elif k%2 ==0 :\n",
    "        for depth in range(1,4):\n",
    "            if depth == 1:\n",
    "                case += 2*4 + 3*8 + 4*(k-4)*4 #테두리\n",
    "            elif depth == 2:\n",
    "                case += 4*4 + 6*(k-4)*4\n",
    "            else:\n",
    "                case += ((k-4)**2)*8 \n",
    "            \n",
    "    else:\n",
    "        for depth in range(1,4):\n",
    "            if depth == 1:\n",
    "                case += 2*4 + 3*8 + 4*(k-4)*4\n",
    "\n",
    "            elif depth == 2:\n",
    "                case += 4*4 + 6*(k-4)*4\n",
    "            else:\n",
    "                case += ((k-4)**2)*8 \n",
    "            \n",
    "\n",
    "    \n",
    "    sig = (k**2-1)*(k**2)/2\n",
    "    \n",
    "    print(int(sig-case/2))\n",
    "    "
   ]
  }
 ],
 "metadata": {
  "kernelspec": {
   "display_name": "Python 3",
   "language": "python",
   "name": "python3"
  },
  "language_info": {
   "codemirror_mode": {
    "name": "ipython",
    "version": 3
   },
   "file_extension": ".py",
   "mimetype": "text/x-python",
   "name": "python",
   "nbconvert_exporter": "python",
   "pygments_lexer": "ipython3",
   "version": "3.7.4"
  }
 },
 "nbformat": 4,
 "nbformat_minor": 4
}
