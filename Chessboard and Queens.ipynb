{
 "cells": [
  {
   "cell_type": "code",
   "execution_count": null,
   "metadata": {},
   "outputs": [],
   "source": [
    "#이미 채워진 칸을 제외하고 퀸 8개가 놓일 수 있는 경우의 수(서로 잡아먹히지 않게..)\n",
    "#8*8체스판...\n",
    "input_board = input()\n",
    "\n",
    "input_board\n"
   ]
  },
  {
   "cell_type": "code",
   "execution_count": null,
   "metadata": {},
   "outputs": [],
   "source": [
    "재귀적으로 만약 같은 줄에 있거나 대각선에 있으면 안뽑음..\n",
    "보드[i]=j는 i열 j행에 퀸이 있다는 뜻....(한행에 퀸이 하나 밖에 들어 갈 수 밖에 없다.)\n",
    "한 행에 하나 밖에 못두니 한 행씩 이동한다\n",
    "\n",
    "같은 줄안에 별이 있거나 대각선 안에 별이 있으면 "
   ]
  },
  {
   "cell_type": "code",
   "execution_count": 22,
   "metadata": {},
   "outputs": [
    {
     "name": "stdout",
     "output_type": "stream",
     "text": [
      "Overwriting submit.py\n"
     ]
    }
   ],
   "source": [
    "%%writefile submit.py\n",
    "case = 0 \n",
    "input_board=''\n",
    "for i in range(8):\n",
    "    string=input()\n",
    "    input_board+=string\n",
    "    \n",
    "board = list(range(8))\n",
    "\n",
    "def get_possible(k):\n",
    "\n",
    "    if k == 8 :\n",
    "        cnt=0\n",
    "        check=0\n",
    "        for i in board:\n",
    "            if input_board[cnt*8+i] == \"*\":\n",
    "                check=1\n",
    "            cnt+=1\n",
    "            \n",
    "        if check == 0:\n",
    "            global case \n",
    "            case+=1\n",
    "            return\n",
    "        \n",
    "        \n",
    "    else:\n",
    "        for i in range(8):\n",
    "            k0 = 1\n",
    "            for j in range(k):\n",
    "                if(board[j]==i or (abs(board[j]-i) == abs(k-j))):\n",
    "                    k0=0\n",
    "                    break\n",
    "            if k0 == 1 :\n",
    "                board[k] = i\n",
    "                get_possible(k+1)\n",
    "\n",
    "get_possible(0)\n",
    "print(case)"
   ]
  },
  {
   "cell_type": "code",
   "execution_count": 26,
   "metadata": {},
   "outputs": [
    {
     "name": "stdout",
     "output_type": "stream",
     "text": [
      "2 2\n",
      "5 5\n",
      "5 6\n",
      "6 3\n"
     ]
    }
   ],
   "source": [
    "for i in range(8):\n",
    "    for j in range(8):\n",
    "        if input_board[i*8+j]=='*':\n",
    "            print(i,j)"
   ]
  },
  {
   "cell_type": "code",
   "execution_count": null,
   "metadata": {},
   "outputs": [],
   "source": [
    "........ ........ ........ ........ ........ ........ ........ ........"
   ]
  },
  {
   "cell_type": "code",
   "execution_count": 18,
   "metadata": {},
   "outputs": [
    {
     "name": "stdin",
     "output_type": "stream",
     "text": [
      " ........ ........ ........ ........ ........ ........ ........ ........\n"
     ]
    },
    {
     "name": "stdout",
     "output_type": "stream",
     "text": [
      "................................................................\n"
     ]
    },
    {
     "data": {
      "text/plain": [
       "64"
      ]
     },
     "execution_count": 18,
     "metadata": {},
     "output_type": "execute_result"
    }
   ],
   "source": [
    "a=input()\n",
    "a=a.replace(\" \",\"\")\n",
    "print(a)\n",
    "len(a)"
   ]
  }
 ],
 "metadata": {
  "kernelspec": {
   "display_name": "Python 3",
   "language": "python",
   "name": "python3"
  },
  "language_info": {
   "codemirror_mode": {
    "name": "ipython",
    "version": 3
   },
   "file_extension": ".py",
   "mimetype": "text/x-python",
   "name": "python",
   "nbconvert_exporter": "python",
   "pygments_lexer": "ipython3",
   "version": "3.7.4"
  }
 },
 "nbformat": 4,
 "nbformat_minor": 4
}
