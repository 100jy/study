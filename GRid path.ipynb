{
 "cells": [
  {
   "cell_type": "code",
   "execution_count": null,
   "metadata": {},
   "outputs": [],
   "source": [
    "??????R??????U??????????????????????????LD????D?\n",
    "????????????????????????????????????????????????"
   ]
  },
  {
   "cell_type": "code",
   "execution_count": 8,
   "metadata": {},
   "outputs": [
    {
     "name": "stdout",
     "output_type": "stream",
     "text": [
      "Overwriting submit.py\n"
     ]
    }
   ],
   "source": [
    "%%writefile submit.py\n",
    "dy=[1,-1,0,0]\n",
    "dx=[0,0,-1,1]\n",
    "trace =[[False]*9 for i in range(9)]\n",
    "String = input()\n",
    "characters = \"DULR\"\n",
    "cnt=0\n",
    "\n",
    "def get_possible(y,x,k):\n",
    "    \n",
    "    if y==7 and x==1 :\n",
    "        if k == 48:\n",
    "            global cnt\n",
    "            cnt+=1\n",
    "         \n",
    "        return\n",
    "    \n",
    "    #노드를 버리는 조건...(몰려버린 경우에 버린다.)\n",
    "    #조건 추가???\n",
    "    #위아래 차고 좌우 열림, 좌우차고 위아래 빔.\n",
    "\n",
    "    if (not(trace[y+1][x]) and not(trace[y-1][x]) and trace[y][x+1] and trace[y][x-1]):\n",
    "        return\n",
    "    elif ((trace[y+1][x]) and (trace[y-1][x]) and not(trace[y][x+1]) and not(trace[y][x-1])):\n",
    "        return\n",
    "     \n",
    "    \n",
    "    \n",
    "    trace[y][x] = True\n",
    "    \n",
    "    if String[k] == '?':\n",
    "        for i in range(4):\n",
    "            ny = y + dy[i]\n",
    "            nx = x + dx[i]\n",
    "            #그리드 밖으로 나가버린 경우 버린다, 또 간 경우도..\n",
    "            if not(trace[ny][nx]) and ny>=1 and nx>=1 and ny<8 and nx<8:\n",
    "                get_possible(ny,nx,k+1)\n",
    "\n",
    "    else:     \n",
    "        i = characters.index(String[k])\n",
    "        ny=y +dy[i]; nx = x+ dx[i]\n",
    "        if not(trace[ny][nx]) and ny>=1 and nx>=1 and ny<8 and nx<8:\n",
    "                get_possible(ny,nx,k+1)\n",
    "\n",
    "                \n",
    "    trace[y][x] = False\n",
    "    \n",
    "for i in range(9):\n",
    "    trace[0][i]=trace[i][0]=trace[8][i]=trace[i][8] = 1\n",
    "get_possible(1,1,0)\n",
    "print(cnt)\n",
    "    "
   ]
  },
  {
   "cell_type": "code",
   "execution_count": 30,
   "metadata": {},
   "outputs": [
    {
     "name": "stdout",
     "output_type": "stream",
     "text": [
      "Overwriting submit.py\n"
     ]
    }
   ],
   "source": [
    "%%writefile submit.py\n",
    "path='0'+input()\n",
    "used =[[False]*9 for i in range(9)]\n",
    "\n",
    "cnt = 0\n",
    "\n",
    "def only(i,j):\n",
    "    \n",
    "    k = 0\n",
    "\n",
    "    if (i == 7 and j == 1):\n",
    "        return 0;\n",
    "    if not(used[i - 1][j]):\n",
    "        k+=1;\n",
    "    if not(used[i + 1][j]):\n",
    "        k+=1;\n",
    "    if not(used[i][j - 1]):\n",
    "        k+=1;\n",
    "    if not(used[i][j + 1]):\n",
    "        k+=1;\n",
    "    return k == 1;\n",
    "\n",
    "\n",
    "def solve(i,j,h) :\n",
    "    \n",
    "    u=0\n",
    "    d=0 \n",
    "    l=0\n",
    "    r=0\n",
    "    global path\n",
    "    \n",
    "    if (h == 48 or (i == 7 and j == 1)) :\n",
    "        if (h == 48):\n",
    "            global cnt\n",
    "            cnt+=1\n",
    "        return\n",
    "\n",
    "    u = not(used[i - 1][j])\n",
    "    d = not(used[i + 1][j])\n",
    "    l = not(used[i][j - 1])\n",
    "    r = not(used[i][j + 1])\n",
    "    \n",
    "    if ((u and d and not(l) and not(r)) or (not(u) and not(d) and l and r)):\n",
    "        return\n",
    "    used[i][j] = 1\n",
    "    h+=1\n",
    "    p = path[h]\n",
    "    \n",
    "    if (u and only(i - 1, j)):\n",
    "        if (p == 'U' or p == '?'):\n",
    "            solve(i - 1, j, h)\n",
    "        used[i][j] = 0\n",
    "        h-=1\n",
    "        return\n",
    "\n",
    "    if (d and only(i + 1, j)) :\n",
    "        if (p == 'D' or p == '?'):\n",
    "            solve(i + 1, j, h)\n",
    "        used[i][j] = 0\n",
    "        h-=1\n",
    "        return\n",
    "\n",
    "    if (l and only(i, j - 1)):\n",
    "        if (p == 'L' or p == '?'):\n",
    "            solve(i, j - 1, h);\n",
    "        used[i][j] = 0\n",
    "        h-=1\n",
    "        return;\n",
    "\n",
    "    if (r and only(i, j + 1)):\n",
    "        if (p == 'R' or p == '?'):\n",
    "            solve(i, j + 1, h)\n",
    "        used[i][j] = 0\n",
    "        h-=1\n",
    "        return;\n",
    "\n",
    "    if (u and (p == 'U' or p == '?')):\n",
    "        solve(i - 1, j, h)\n",
    "    if (d and (p == 'D' or p == '?')):\n",
    "        solve(i + 1, j, h);\n",
    "    if (l and (p == 'L' or p == '?')):\n",
    "        solve(i, j - 1, h)\n",
    "    if (r and (p == 'R' or p == '?')):\n",
    "        solve(i, j + 1, h)\n",
    "    \n",
    "    used[i][j] = 0\n",
    "    h-=1\n",
    "\n",
    "\n",
    "for i  in range(9):\n",
    "    for j in range(9):\n",
    "        used[i][j] = i == 0 or i == 8 or j == 0 or j == 8\n",
    "\n",
    "\n",
    "solve(1, 1, 0)\n",
    "print(cnt)\n"
   ]
  },
  {
   "cell_type": "code",
   "execution_count": 24,
   "metadata": {},
   "outputs": [
    {
     "data": {
      "text/plain": [
       "48"
      ]
     },
     "execution_count": 24,
     "metadata": {},
     "output_type": "execute_result"
    }
   ],
   "source": []
  }
 ],
 "metadata": {
  "kernelspec": {
   "display_name": "Python 3",
   "language": "python",
   "name": "python3"
  },
  "language_info": {
   "codemirror_mode": {
    "name": "ipython",
    "version": 3
   },
   "file_extension": ".py",
   "mimetype": "text/x-python",
   "name": "python",
   "nbconvert_exporter": "python",
   "pygments_lexer": "ipython3",
   "version": "3.7.4"
  }
 },
 "nbformat": 4,
 "nbformat_minor": 4
}
