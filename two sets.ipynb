{
 "cells": [
  {
   "cell_type": "code",
   "execution_count": 26,
   "metadata": {},
   "outputs": [
    {
     "name": "stdout",
     "output_type": "stream",
     "text": [
      "Overwriting submit.py\n"
     ]
    }
   ],
   "source": [
    "%%writefile submit.py\n",
    "\n",
    "n = int(input())\n",
    "arr=[]\n",
    "arr_even=[]\n",
    "suma=0\n",
    "\n",
    "for i in range(1,n+1):\n",
    "    if i%2 ==1 :\n",
    "        arr.append(i)\n",
    "        suma +=i\n",
    "    else:\n",
    "        arr_even.append(i)\n",
    "\n",
    "sig = n*(n+1)/2\n",
    "\n",
    "if sig%2 == 0:\n",
    "    print(\"YES\")\n",
    "    sig /= 2\n",
    "\n",
    "    con = sig - suma\n",
    "    \n",
    "    if con>=0:\n",
    "        for j in range(int(con)):\n",
    "            arr[j] += 1\n",
    "            arr_even[j] -=1\n",
    "    else:\n",
    "        for k in range(int(-1*con)):\n",
    "            arr[k+1] -= 1\n",
    "            arr_even[k] +=1\n",
    "            \n",
    "    print(len(arr))\n",
    "    for p in arr:\n",
    "        print(p)\n",
    "        \n",
    "    print(len(arr_even))\n",
    "    for q in arr_even:\n",
    "        print(q)\n",
    "    \n",
    "else :\n",
    "    print(\"NO\")"
   ]
  }
 ],
 "metadata": {
  "kernelspec": {
   "display_name": "Python 3",
   "language": "python",
   "name": "python3"
  },
  "language_info": {
   "codemirror_mode": {
    "name": "ipython",
    "version": 3
   },
   "file_extension": ".py",
   "mimetype": "text/x-python",
   "name": "python",
   "nbconvert_exporter": "python",
   "pygments_lexer": "ipython3",
   "version": "3.7.4"
  }
 },
 "nbformat": 4,
 "nbformat_minor": 4
}
