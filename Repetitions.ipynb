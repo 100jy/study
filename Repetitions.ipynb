{
 "cells": [
  {
   "cell_type": "code",
   "execution_count": 95,
   "metadata": {},
   "outputs": [
    {
     "name": "stdin",
     "output_type": "stream",
     "text": [
      " aaaaa\n"
     ]
    },
    {
     "name": "stdout",
     "output_type": "stream",
     "text": [
      "5\n"
     ]
    }
   ],
   "source": [
    "#가장 긴 반복을 가진 캐릭터의 길이 출력(G,C,A,T)\n",
    "\n",
    "String = str(input()) #innput 출력은 문자열\n",
    "'''\n",
    "#최대값 잧기\n",
    "def max_in_arr(arr):\n",
    "    #init\n",
    "    b=arr[0]\n",
    "    for i in range(0,len(arr)):\n",
    "        if arr[i]>b:\n",
    "            b=arr[i]\n",
    "    print(b)\n",
    "'''\n",
    "#문자열은 인덱스로 슬라이싱이 가능하다...\n",
    "#init\n",
    "list_iter=[]\n",
    "iterate=0\n",
    "\n",
    "for idx in range(0,len(String)):\n",
    "    \n",
    "    if idx==len(String)-1:\n",
    "        list_iter.append(iterate+1)\n",
    "    \n",
    "    else:\n",
    "    \n",
    "        if String[idx]==String[idx+1]:\n",
    "            iterate=iterate+1\n",
    "\n",
    "\n",
    "        else: \n",
    "            list_iter.append(iterate+1)\n",
    "            iterate=0\n",
    "\n",
    "arr=list_iter\n",
    "b=arr[0]\n",
    "for i in range(0,len(arr)):\n",
    "    if arr[i]>b:\n",
    "         b=arr[i]\n",
    "print(b)\n",
    "\n",
    "##.py파일으로 저장해야하뮤ㅠㅠ\n"
   ]
  }
 ],
 "metadata": {
  "kernelspec": {
   "display_name": "Python 3",
   "language": "python",
   "name": "python3"
  },
  "language_info": {
   "codemirror_mode": {
    "name": "ipython",
    "version": 3
   },
   "file_extension": ".py",
   "mimetype": "text/x-python",
   "name": "python",
   "nbconvert_exporter": "python",
   "pygments_lexer": "ipython3",
   "version": "3.7.4"
  }
 },
 "nbformat": 4,
 "nbformat_minor": 4
}
