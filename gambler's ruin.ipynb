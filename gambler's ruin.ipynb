{
 "cells": [
  {
   "cell_type": "code",
   "execution_count": 3,
   "metadata": {},
   "outputs": [
    {
     "name": "stdin",
     "output_type": "stream",
     "text": [
      " 10\n",
      " 20\n",
      " 1000\n"
     ]
    },
    {
     "name": "stdout",
     "output_type": "stream",
     "text": [
      "평균 배팅횟수 : 100.084\n",
      " 승률 : 51.9\n"
     ]
    }
   ],
   "source": [
    "import random\n",
    "# input: 자본금, 목표, 시뮬레이션 횟수\n",
    "# output : 승률과 평균 배팅횟수..\n",
    "\n",
    "init = int(input())\n",
    "goal = int(input())\n",
    "trial = int(input())\n",
    "\n",
    "def gambler(init, goal, trial):\n",
    "    \n",
    "    win=0\n",
    "    total=0\n",
    "    \n",
    "    for i in range(trial):\n",
    "        cnt=0\n",
    "        cash = init\n",
    "        while cash > 0 and cash<goal:\n",
    "            cnt +=1\n",
    "            if random.randrange(0,2) == 0:\n",
    "                cash += 1 #승리확률을 1/2로 산정했다.\n",
    "            else:\n",
    "                cash -= 1\n",
    "            if cash == goal:\n",
    "                win+=1\n",
    "        total+=cnt\n",
    "        \n",
    "    mean = total/trial\n",
    "    win_rate = (win/trial)*100\n",
    "    print(\"평균 배팅횟수 : \"+str(mean)+\"\\n 승률 : \"+str(win_rate))     \n",
    "\n",
    "gambler(init,goal,trial)"
   ]
  },
  {
   "cell_type": "code",
   "execution_count": 8,
   "metadata": {},
   "outputs": [
    {
     "name": "stdin",
     "output_type": "stream",
     "text": [
      " 5\n",
      " 20\n",
      " 1000\n"
     ]
    },
    {
     "name": "stdout",
     "output_type": "stream",
     "text": [
      "평균 배팅횟수 : 74.868\n",
      " 승률 : 25.3\n"
     ]
    }
   ],
   "source": [
    "import random\n",
    "# input: 자본금, 목표, 시뮬레이션 횟수\n",
    "# output : 승률과 평균 배팅횟수..\n",
    "\n",
    "init = int(input())\n",
    "goal = int(input())\n",
    "trial = int(input())\n",
    "\n",
    "def gambler(init, goal, trial):\n",
    "    \n",
    "    win=0\n",
    "    total=0\n",
    "    \n",
    "    for i in range(trial):\n",
    "        cnt=0\n",
    "        cash = init\n",
    "        while cash > 0 and cash<goal:\n",
    "            cnt +=1\n",
    "            if random.randrange(0,2) == 0:\n",
    "                cash += 1 #승리확률을 1/2로 산정했다.\n",
    "            else:\n",
    "                cash -= 1\n",
    "            if cash == goal:\n",
    "                win+=1\n",
    "        total+=cnt\n",
    "        \n",
    "    mean = total/trial\n",
    "    win_rate = (win/trial)*100\n",
    "    print(\"평균 배팅횟수 : \"+str(mean)+\"\\n 승률 : \"+str(win_rate))     \n",
    "\n",
    "gambler(init,goal,trial)"
   ]
  }
 ],
 "metadata": {
  "kernelspec": {
   "display_name": "Python 3",
   "language": "python",
   "name": "python3"
  },
  "language_info": {
   "codemirror_mode": {
    "name": "ipython",
    "version": 3
   },
   "file_extension": ".py",
   "mimetype": "text/x-python",
   "name": "python",
   "nbconvert_exporter": "python",
   "pygments_lexer": "ipython3",
   "version": "3.7.4"
  }
 },
 "nbformat": 4,
 "nbformat_minor": 4
}
