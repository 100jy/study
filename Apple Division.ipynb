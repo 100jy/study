{
 "cells": [
  {
   "cell_type": "code",
   "execution_count": null,
   "metadata": {},
   "outputs": [],
   "source": [
    "n개의 사과를 두그룹으로 나눠 두 그룹의 무게차가 최소가 되게\n",
    "무게의 차의 최소값 출력"
   ]
  },
  {
   "cell_type": "code",
   "execution_count": 83,
   "metadata": {},
   "outputs": [
    {
     "name": "stdout",
     "output_type": "stream",
     "text": [
      "Overwriting submit.py\n"
     ]
    }
   ],
   "source": [
    "%%writefile submit.py\n",
    "from itertools import combinations\n",
    "n = int(input())\n",
    "array=[]\n",
    "for i in range(n):\n",
    "    array.append(str(i))\n",
    "weight = sorted([int(x) for x in input().split()])\n",
    "total = sum(weight)\n",
    "k=0\n",
    "max_suma=0\n",
    "\n",
    "\n",
    "diff_a=[]\n",
    "for k in range(1,n+1):\n",
    "    \n",
    "    if k ==1 :\n",
    "        weight_s=list(map(str,weight))\n",
    "        com = list(map(''.join,combinations(weight_s,k)))\n",
    "        suma = list(map(int,com))\n",
    "        max_suma = max(suma)\n",
    "        diff_a=[]\n",
    "        for i in suma: \n",
    "            diff_a.append(2*i-total) \n",
    "    else:\n",
    "        com = list(map(list,combinations(weight,k)))\n",
    "        suma = list(map(sum,com))\n",
    "        \n",
    "        max_suma = max(suma)\n",
    "        \n",
    "        for i in suma: \n",
    "            diff_a.append(2*i-total)\n",
    "\n",
    "print(min(list(map(abs,diff_a))))\n",
    "   \n",
    "        \n"
   ]
  },
  {
   "cell_type": "code",
   "execution_count": 55,
   "metadata": {},
   "outputs": [
    {
     "name": "stdout",
     "output_type": "stream",
     "text": [
      "Overwriting submit.py\n"
     ]
    }
   ],
   "source": [
    "%%writefile submit.py\n",
    "n = int(input())\n",
    "weight = [int(x) for x in input().split()]\n",
    "a=[]\n",
    "def get_diff(weight,k,b):\n",
    "    \n",
    "    if k == len(weight):\n",
    "        ans = b\n",
    "        a.append(ans)\n",
    "        return\n",
    "      \n",
    "    get_diff(weight,k+1,b+weight[k])\n",
    "    get_diff(weight,k+1,b-weight[k])\n",
    "\n",
    "    \n",
    "get_diff(weight,0,0)  \n",
    "print(min(map(abs,a)))"
   ]
  }
 ],
 "metadata": {
  "kernelspec": {
   "display_name": "Python 3",
   "language": "python",
   "name": "python3"
  },
  "language_info": {
   "codemirror_mode": {
    "name": "ipython",
    "version": 3
   },
   "file_extension": ".py",
   "mimetype": "text/x-python",
   "name": "python",
   "nbconvert_exporter": "python",
   "pygments_lexer": "ipython3",
   "version": "3.7.4"
  }
 },
 "nbformat": 4,
 "nbformat_minor": 4
}
