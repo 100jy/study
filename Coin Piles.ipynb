{
 "cells": [
  {
   "cell_type": "code",
   "execution_count": 11,
   "metadata": {},
   "outputs": [
    {
     "name": "stdout",
     "output_type": "stream",
     "text": [
      "Overwriting submit.py\n"
     ]
    }
   ],
   "source": [
    "%%writefile submit.py\n",
    "\n",
    "n = int(input())\n",
    "for i in range(n):\n",
    "    k,t = [int(x) for x in input().split()]\n",
    "    a = ((-1)*k+(2)*t)\n",
    "    b = (2*k+(-1)*t)\n",
    "    if k == 0 and t == 0:\n",
    "        print(\"YES\")\n",
    "    elif k*t == 0 or a<0 or b<0 :\n",
    "        print(\"NO\")\n",
    "    elif a%3 == 0 and b%3 == 0 :\n",
    "        print(\"YES\")\n",
    "    else :\n",
    "        print(\"NO\")"
   ]
  },
  {
   "cell_type": "code",
   "execution_count": 1,
   "metadata": {},
   "outputs": [
    {
     "data": {
      "text/plain": [
       "0"
      ]
     },
     "execution_count": 1,
     "metadata": {},
     "output_type": "execute_result"
    }
   ],
   "source": []
  }
 ],
 "metadata": {
  "kernelspec": {
   "display_name": "Python 3",
   "language": "python",
   "name": "python3"
  },
  "language_info": {
   "codemirror_mode": {
    "name": "ipython",
    "version": 3
   },
   "file_extension": ".py",
   "mimetype": "text/x-python",
   "name": "python",
   "nbconvert_exporter": "python",
   "pygments_lexer": "ipython3",
   "version": "3.7.4"
  }
 },
 "nbformat": 4,
 "nbformat_minor": 4
}
